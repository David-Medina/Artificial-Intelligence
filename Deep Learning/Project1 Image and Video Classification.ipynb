{
  "cells": [
    {
      "cell_type": "markdown",
      "metadata": {
        "colab_type": "text",
        "id": "6HfIWgQMN4fF"
      },
      "source": [
        "# Project 1: Image and Video Classification,\n",
        "# Part I - Video Classification (50 points)\n"
      ]
    },
    {
      "cell_type": "markdown",
      "metadata": {
        "colab_type": "text",
        "id": "3io58yCuN4fI"
      },
      "source": [
        " - **Student Name**:  Tomas David Medina Romero\n",
        "\n",
        " - **Finish Date**: "
      ]
    },
    {
      "cell_type": "markdown",
      "metadata": {
        "colab_type": "text",
        "id": "ZKQ9YsDBN4fL"
      },
      "source": [
        "Points Distribution: \n",
        "- Task1: 0\n",
        "- Task2: 15\n",
        "- Task3: 20\n",
        "- Task4: 15"
      ]
    },
    {
      "cell_type": "code",
      "execution_count": 1,
      "metadata": {
        "colab": {},
        "colab_type": "code",
        "id": "MbQkhxjUN4fQ"
      },
      "outputs": [],
      "source": [
        "from __future__ import print_function, division\n",
        "import os\n",
        "import torch\n",
        "import pandas as pd\n",
        "import numpy as np\n",
        "import matplotlib.pyplot as plt\n",
        "from torch.utils.data import Dataset, DataLoader\n",
        "from IPython.display import YouTubeVideo\n",
        "import pickle as pk\n",
        "import urllib\n",
        "import pandas as pd\n",
        "import torch.nn as nn\n",
        "import torch.functional as F\n",
        "import torch.optim as optim\n",
        "from torchsummary import summary\n",
        "# Ignore warnings\n",
        "import warnings\n",
        "warnings.filterwarnings(\"ignore\")\n",
        "\n",
        "plt.ion()   # interactive mode"
      ]
    },
    {
      "cell_type": "markdown",
      "metadata": {
        "colab_type": "text",
        "id": "a74zlwaUN4fc"
      },
      "source": [
        "## Task 0: Getting Started\n",
        "\n",
        "Read the getting started guide titled **\"Python for Deep Learning\"** and get familiar with Python and PyTorch. Read the provided code below and get familiar with the commands and their parameters to understand what the code is trying to do. We recommend to spend a fair amount of time to understand all the different parts of the code. This understanding will be important for this and future projects.\n",
        "\n",
        "\n",
        "This Project consist of 2 parts:\n",
        "\n",
        "    Part I - Video Classification (50 points)    \n",
        "    Part II - Image Classification (50 points) \n",
        "    \n",
        "Even though image classification might seem as an easier task, we will work with **pre-extracted** features in Part I, and in Part II you will have experience with an **end-to-end training**.   \n",
        "In this part we will perform a simple Logistic Regression to predict a video class. We will use YouTube-8M, large-scale labeled video dataset (https://research.google.com/youtube8m/index.html). \n",
        "\n",
        "Now please **follow the tasks and fill in the blanks**."
      ]
    },
    {
      "cell_type": "markdown",
      "metadata": {
        "colab_type": "text",
        "id": "t2oFsXn8N4ff"
      },
      "source": [
        "## Task 1:  Dataset and Data Loading (0 points)\n",
        "Look through the **Dataset** and **DataLoader** below which we will use to load training and testing images of the YouTube-8M dataset provided. "
      ]
    },
    {
      "cell_type": "code",
      "execution_count": 2,
      "metadata": {
        "colab": {},
        "colab_type": "code",
        "id": "KCsLkE3AN4fh"
      },
      "outputs": [],
      "source": [
        "feat_dim = 1024 # for RGB features \n",
        "nb_classes = 3862 \n",
        "\n",
        "class YT8MminiDataset(Dataset):\n",
        "\n",
        "    def __init__(self, pk_file, root_dir):\n",
        "        \"\"\"\n",
        "        Args:\n",
        "            pk_file (dict): video id with annotations.\n",
        "            root_dir (string): Directory with all the images.\n",
        "            transform (callable, optional): Optional transform to be applied\n",
        "                on a sample.\n",
        "        \"\"\"\n",
        "        with open(pk_file, 'rb') as f:\n",
        "            self.video_record = pk.load(f)\n",
        "        self.vids = sorted(list(self.video_record.keys()))\n",
        "        self.root_dir = root_dir\n",
        "\n",
        "    def __len__(self):\n",
        "        return len(self.vids)\n",
        "\n",
        "    def __getitem__(self, idx):\n",
        "        if torch.is_tensor(idx):\n",
        "            idx = idx.tolist()\n",
        "\n",
        "        vid = self.vids[idx]\n",
        "        #We will be using visual features only. \n",
        "        video = torch.tensor(self.video_record[vid]['mean_rgb'])\n",
        "        #obtaining list of labels (might be more than 1 label per video)\n",
        "        dense_label = torch.tensor(self.video_record[vid]['label'], dtype = torch.long)\n",
        "        #making one-hot vectors from the label list\n",
        "        one_hot_label = torch.zeros(nb_classes) \n",
        "        one_hot_label = one_hot_label.scatter_(0, dense_label, torch.ones_like(dense_label, dtype = torch.float)) \n",
        "        sample = {'video': video, 'label': one_hot_label, 'id':vid}\n",
        "\n",
        "        return sample"
      ]
    },
    {
      "cell_type": "code",
      "execution_count": 3,
      "metadata": {
        "colab": {
          "base_uri": "https://localhost:8080/",
          "height": 34
        },
        "colab_type": "code",
        "id": "h85lKwJBN4fs",
        "outputId": "7b16cacf-e795-4707-cee1-12a1cd01c36b"
      },
      "outputs": [
        {
          "data": {
            "text/plain": [
              "<__main__.YT8MminiDataset at 0x7fa98fe50208>"
            ]
          },
          "execution_count": 3,
          "metadata": {
            "tags": []
          },
          "output_type": "execute_result"
        }
      ],
      "source": [
        "dataset_train = YT8MminiDataset(pk_file='/content/train_mini.pk',root_dir='content/')\n",
        "dataset_validate = YT8MminiDataset(pk_file='/content/validate_mini.pk',root_dir='content/')\n",
        "dataset_test = YT8MminiDataset(pk_file='/content/test_mini.pk',root_dir='content/')\n",
        "dataset_train"
      ]
    },
    {
      "cell_type": "code",
      "execution_count": 4,
      "metadata": {
        "colab": {},
        "colab_type": "code",
        "id": "yUCB3zPxN4f2"
      },
      "outputs": [],
      "source": [
        "dataloader_train = DataLoader(dataset_train, batch_size=16,shuffle=True, num_workers=4)\n",
        "dataloader_validate = DataLoader(dataset_validate, batch_size=16,shuffle=True, num_workers=4)\n",
        "dataloader_test = DataLoader(dataset_test, batch_size=16,shuffle=False, num_workers=4)"
      ]
    },
    {
      "cell_type": "code",
      "execution_count": 5,
      "metadata": {
        "colab": {},
        "colab_type": "code",
        "id": "JaVd5FjJN4f_"
      },
      "outputs": [],
      "source": [
        "## load labels\n",
        "vocab = pd.read_csv('/content/label_names.csv')\n",
        "label_mapping =  vocab[['label_id', 'label_name']].to_dict()['label_name']\n",
        "# label_mapping[65]"
      ]
    },
    {
      "cell_type": "code",
      "execution_count": 6,
      "metadata": {
        "colab": {
          "base_uri": "https://localhost:8080/",
          "height": 544
        },
        "colab_type": "code",
        "id": "TV_4S0BVN4gH",
        "outputId": "450c8fe0-cc99-453b-cf7d-6ef6742ed9b0"
      },
      "outputs": [
        {
          "name": "stdout",
          "output_type": "stream",
          "text": [
            "3624\n",
            "0 tensor([[ 0.4734,  0.4946, -0.4311,  ...,  0.2057, -0.3611, -0.0020],\n",
            "        [-0.8848, -1.8586, -0.8857,  ..., -0.3272, -1.2299,  0.1561],\n",
            "        [ 0.2530, -1.2076, -0.6807,  ..., -0.2294, -0.0525, -0.1173],\n",
            "        ...,\n",
            "        [-0.3540,  1.0898, -0.6347,  ..., -0.1097, -0.2706, -0.4094],\n",
            "        [-1.1455,  1.2347, -0.7493,  ..., -0.8343, -0.8072, -0.1266],\n",
            "        [ 0.0128, -0.8674,  0.2520,  ..., -0.1166,  0.0520, -0.0695]],\n",
            "       dtype=torch.float64)\n",
            "0 tensor([[0., 0., 0.,  ..., 0., 0., 0.],\n",
            "        [0., 0., 0.,  ..., 0., 0., 0.],\n",
            "        [1., 1., 0.,  ..., 0., 0., 0.],\n",
            "        ...,\n",
            "        [0., 0., 0.,  ..., 0., 0., 0.],\n",
            "        [0., 0., 1.,  ..., 0., 0., 0.],\n",
            "        [1., 1., 0.,  ..., 0., 0., 0.]])\n",
            "1 tensor([[-0.9484, -0.0090,  1.8966,  ..., -0.5312,  0.0165,  0.5426],\n",
            "        [-0.3383,  0.5814,  0.0566,  ...,  0.0558, -0.1706,  0.6752],\n",
            "        [-0.3561,  0.5850, -0.6879,  ...,  0.5796,  0.1627, -0.4233],\n",
            "        ...,\n",
            "        [-0.3223, -0.3281,  1.5453,  ..., -0.1115, -0.2519, -0.1515],\n",
            "        [-0.3135,  0.6398, -0.3347,  ...,  0.6735,  0.2388, -0.8222],\n",
            "        [ 0.9053,  0.4697, -0.2746,  ...,  0.2541, -0.1301, -0.2595]],\n",
            "       dtype=torch.float64)\n",
            "1 tensor([[0., 0., 0.,  ..., 0., 0., 0.],\n",
            "        [1., 0., 0.,  ..., 0., 0., 0.],\n",
            "        [0., 0., 0.,  ..., 0., 0., 0.],\n",
            "        ...,\n",
            "        [0., 0., 0.,  ..., 0., 0., 0.],\n",
            "        [1., 0., 0.,  ..., 0., 0., 0.],\n",
            "        [1., 0., 0.,  ..., 0., 0., 0.]])\n"
          ]
        }
      ],
      "source": [
        "print(len(dataloader_train))\n",
        "for i, video in enumerate(dataloader_train):\n",
        "    print(i, video['video'])\n",
        "    print(i, video['label'] )\n",
        "    if i > 0:\n",
        "        break"
      ]
    },
    {
      "cell_type": "code",
      "execution_count": 7,
      "metadata": {
        "colab": {
          "base_uri": "https://localhost:8080/",
          "height": 51
        },
        "colab_type": "code",
        "id": "g87yARYjN4gP",
        "outputId": "8a6476ba-643a-4f6b-f0b9-9fa6afc7ec36"
      },
      "outputs": [
        {
          "data": {
            "text/plain": [
              "tensor([ 1.3881, -1.3491,  0.7971,  ..., -0.1806, -0.9574,  0.5546],\n",
              "       dtype=torch.float64)"
            ]
          },
          "execution_count": 7,
          "metadata": {
            "tags": []
          },
          "output_type": "execute_result"
        }
      ],
      "source": [
        "dataset_train[0][\"video\"]\n",
        "#dataloader_train"
      ]
    },
    {
      "cell_type": "markdown",
      "metadata": {
        "colab_type": "text",
        "id": "ZVTkFkZDN4gX"
      },
      "source": [
        "# Visualize a video from the dataset\n",
        "Since the videos in the dataset are taken from the YouTube, you can easily access it given the video ID. "
      ]
    },
    {
      "cell_type": "code",
      "execution_count": 8,
      "metadata": {
        "colab": {
          "base_uri": "https://localhost:8080/",
          "height": 51
        },
        "colab_type": "code",
        "id": "gjzG2oFMN4ga",
        "outputId": "666de8d7-5640-4138-aadc-1fc3059f470b"
      },
      "outputs": [
        {
          "name": "stdout",
          "output_type": "stream",
          "text": [
            "ZEmD3KRa9bA\n"
          ]
        },
        {
          "data": {
            "text/plain": [
              "'ZEmD3KRa9bA'"
            ]
          },
          "execution_count": 8,
          "metadata": {
            "tags": []
          },
          "output_type": "execute_result"
        }
      ],
      "source": [
        "def get_youtube_id(short_id):\n",
        "    assert len(short_id)==4\n",
        "    url = \"http://data.yt8m.org/2/j/i/{}/{}.js\".format(short_id[:2], short_id)\n",
        "    fp = urllib.request.urlopen(url)\n",
        "    mybytes = fp.read()\n",
        "\n",
        "    mystr = mybytes.decode(\"utf8\")\n",
        "    fp.close()\n",
        "    \n",
        "    long_id = mystr.split('\"')[-2]\n",
        "    print(long_id)\n",
        "    return str(long_id)\n",
        "get_youtube_id('0Ebs')"
      ]
    },
    {
      "cell_type": "code",
      "execution_count": 9,
      "metadata": {
        "colab": {
          "base_uri": "https://localhost:8080/",
          "height": 338
        },
        "colab_type": "code",
        "id": "DM3CGNJVN4gg",
        "outputId": "201d5aac-4aaf-40dc-d4bb-e67432d3dc32"
      },
      "outputs": [
        {
          "name": "stdout",
          "output_type": "stream",
          "text": [
            "ZEmD3KRa9bA\n"
          ]
        },
        {
          "data": {
            "image/jpeg": "[encoded data removed]",
            "text/html": [
              "\n",
              "        <iframe\n",
              "            width=\"400\"\n",
              "            height=\"300\"\n",
              "            src=\"https://www.youtube.com/embed/ZEmD3KRa9bA\"\n",
              "            frameborder=\"0\"\n",
              "            allowfullscreen\n",
              "        ></iframe>\n",
              "        "
            ],
            "text/plain": [
              "<IPython.lib.display.YouTubeVideo at 0x7fa98fd69390>"
            ]
          },
          "execution_count": 9,
          "metadata": {
            "tags": []
          },
          "output_type": "execute_result"
        }
      ],
      "source": [
        "def show_yt8m(short_id, labels=None):\n",
        "    \"\"\"Show video with labels\"\"\"\n",
        "    if labels is not None:\n",
        "        print('label names of this video:',\\\n",
        "          [label_mapping[x] for x in labels])\n",
        "    vid = get_youtube_id(short_id)\n",
        "    return YouTubeVideo(vid)\n",
        "\n",
        "\n",
        "show_yt8m(short_id='0Ebs')"
      ]
    },
    {
      "cell_type": "code",
      "execution_count": 10,
      "metadata": {
        "colab": {
          "base_uri": "https://localhost:8080/",
          "height": 355
        },
        "colab_type": "code",
        "id": "4dZAvoUhN4gn",
        "outputId": "c9af0ddd-2ec1-494b-e6f8-8191df7e59c1"
      },
      "outputs": [
        {
          "name": "stdout",
          "output_type": "stream",
          "text": [
            "label names of this video: ['Car', 'Musical ensemble']\n",
            "gfeTSrI_n38\n"
          ]
        },
        {
          "data": {
            "image/jpeg": "[encoded data removed]",
            "text/html": [
              "\n",
              "        <iframe\n",
              "            width=\"400\"\n",
              "            height=\"300\"\n",
              "            src=\"https://www.youtube.com/embed/gfeTSrI_n38\"\n",
              "            frameborder=\"0\"\n",
              "            allowfullscreen\n",
              "        ></iframe>\n",
              "        "
            ],
            "text/plain": [
              "<IPython.lib.display.YouTubeVideo at 0x7fa9f64ecbe0>"
            ]
          },
          "execution_count": 10,
          "metadata": {
            "tags": []
          },
          "output_type": "execute_result"
        }
      ],
      "source": [
        "show_yt8m(short_id='2caz',labels=[4, 13])"
      ]
    },
    {
      "cell_type": "markdown",
      "metadata": {
        "colab_type": "text",
        "id": "mcpLfUYnN4gu"
      },
      "source": [
        "## Task 2: Defining your logistic model (15 points)\n",
        "Complete the model definition below to define a simple logistic regression model"
      ]
    },
    {
      "cell_type": "code",
      "execution_count": 54,
      "metadata": {
        "colab": {},
        "colab_type": "code",
        "id": "D7RRFNMBN4gw"
      },
      "outputs": [],
      "source": [
        "class LogisticRegressionModel(nn.Module):\n",
        "    def __init__(self):\n",
        "        super(LogisticRegressionModel, self).__init__()\n",
        "        # TODO: complete the layers below\n",
        "        self.fc = nn.Linear(feat_dim,nb_classes)\n",
        "        self.sigmoid = nn.Sigmoid()\n",
        "\n",
        "    def forward(self,x):\n",
        "        x = self.fc(x)\n",
        "        x = self.sigmoid(x)\n",
        "        #x = self.sigmoid(self.fc(x))\n",
        "        return x\n",
        "    "
      ]
    },
    {
      "cell_type": "code",
      "execution_count": 55,
      "metadata": {
        "colab": {
          "base_uri": "https://localhost:8080/",
          "height": 272
        },
        "colab_type": "code",
        "id": "ftI-pMnCN4g3",
        "outputId": "aa5b91eb-46d1-4980-b8ca-bdf432674d8c"
      },
      "outputs": [
        {
          "name": "stdout",
          "output_type": "stream",
          "text": [
            "----------------------------------------------------------------\n",
            "        Layer (type)               Output Shape         Param #\n",
            "================================================================\n",
            "            Linear-1                 [-1, 3862]       3,958,550\n",
            "           Sigmoid-2                 [-1, 3862]               0\n",
            "================================================================\n",
            "Total params: 3,958,550\n",
            "Trainable params: 3,958,550\n",
            "Non-trainable params: 0\n",
            "----------------------------------------------------------------\n",
            "Input size (MB): 0.00\n",
            "Forward/backward pass size (MB): 0.06\n",
            "Params size (MB): 15.10\n",
            "Estimated Total Size (MB): 15.16\n",
            "----------------------------------------------------------------\n"
          ]
        }
      ],
      "source": [
        "device = 'cuda'\n",
        "# device = 'cpu'\n",
        "#TODO: create an instance of your model\n",
        "        ################################ TODO ##################################\n",
        "model = LogisticRegressionModel()\n",
        "        ################################ TODO ##################################\n",
        "model = model.to(device)\n",
        "summary(model, input_size = (feat_dim,))\n",
        "#model"
      ]
    },
    {
      "cell_type": "markdown",
      "metadata": {
        "colab_type": "text",
        "id": "HqL3ortVN4g-"
      },
      "source": [
        "## Task 3: Training (20 points)\n",
        "Complete the code below to train your logisitc regression model"
      ]
    },
    {
      "cell_type": "code",
      "execution_count": 56,
      "metadata": {
        "colab": {},
        "colab_type": "code",
        "id": "D3-IxyrLN4hA"
      },
      "outputs": [],
      "source": [
        "def validate(model, dataloader, loss, mode = 'Validation', thresh = 0.5, save_path='saved_weight_video.pth'):\n",
        "    #TODO: put the model in the evaluation mode\n",
        "        ################################ TODO ##################################\n",
        "    model.eval()\n",
        "    running_correct = 0\n",
        "    running_positive = 0\n",
        "    running_val_loss = 0\n",
        "    num_samp = len(dataloader)\n",
        "    with torch.no_grad():\n",
        "        for i, sample in enumerate(dataloader):\n",
        "            preds = model(sample['video'].float().to(device))\n",
        "            #TODO: threshold the predictions of the Sigmoid activation to obtain positive predictions  \n",
        "                    ################################ TODO ##################################\n",
        "            positive_preds = torch.where(preds>thresh,torch.zeros_like(preds),torch.ones_like(preds))\n",
        "                    ################################ TODO ##################################\n",
        "            gt_labels = sample['label'].to(device)\n",
        "            correct_preds = (positive_preds == (gt_labels > 0))\n",
        "            running_correct = running_correct + torch.sum(correct_preds & (gt_labels > 0)) \n",
        "            running_positive = running_positive + torch.sum(preds)  \n",
        "            #TODO: calculate the loss\n",
        "                    ################################ TODO ##################################\n",
        "            loss_val = loss(preds,gt_labels)\n",
        "                    ################################ TODO ##################################\n",
        "            running_val_loss = running_val_loss + loss_val.detach() \n",
        "        precision = running_correct / running_positive\n",
        "        print(f'Loss for {mode}: {running_val_loss / num_samp}, Precision for {mode}: {precision}')\n",
        "    return running_val_loss / num_samp"
      ]
    },
    {
      "cell_type": "code",
      "execution_count": 64,
      "metadata": {
        "colab": {},
        "colab_type": "code",
        "id": "FSsMYASpN4hI"
      },
      "outputs": [],
      "source": [
        "loss_train_arr = []\n",
        "loss_val_arr = []\n",
        "def train(model, dataloader, optimizer, loss, epochs = 1, device = 'cpu', thresh = 0.5, save_path='saved_weight_video.pth'):\n",
        "    for e in range(epochs):\n",
        "        #TODO: set the model to the training mode\n",
        "                ################################ TODO ##################################\n",
        "        model.train()\n",
        "        running_train_loss = 0\n",
        "        running_correct = 0\n",
        "        running_positive = 0\n",
        "        num_samp = len(dataloader)\n",
        "        for i, sample in enumerate(dataloader):\n",
        "            optimizer.zero_grad()\n",
        "            preds = model(sample['video'].float().to(device))\n",
        "            #TODO: threshold the predictions of the Sigmoid activation to obtain positive predictions\n",
        "                    ################################ TODO ##################################\n",
        "            positive_preds = torch.where(preds>thresh,torch.zeros_like(preds),torch.ones_like(preds))\n",
        "                    ################################ TODO ##################################\n",
        "            gt_labels = sample['label'].to(device)\n",
        "            correct_preds = (positive_preds == (gt_labels > 0))\n",
        "            running_correct = running_correct + torch.sum(correct_preds & (gt_labels > 0)) \n",
        "            running_positive = running_positive + torch.sum(preds) \n",
        "            #TODO: calculate the loss \n",
        "                    ################################ TODO ##################################\n",
        "            loss_train = loss(preds,gt_labels)\n",
        "                    ################################ TODO ##################################\n",
        "            loss_train.backward()\n",
        "            #TODO: do the optimization step\n",
        "            optimizer.step()\n",
        "            running_train_loss = running_train_loss + loss_train.detach() \n",
        "\n",
        "        loss_train_arr.append(running_train_loss / num_samp)\n",
        "        precision = running_correct / running_positive\n",
        "        print(f'Epoch: {e + 1}')\n",
        "        print(f'Loss: {running_train_loss / num_samp}, Precision: {precision}')\n",
        "        torch.save(model.state_dict(), save_path)\n",
        "        loss_validate = validate(model, dataloader_validate, loss)\n",
        "        loss_val_arr.append(loss_validate)\n",
        "        print()"
      ]
    },
    {
      "cell_type": "code",
      "execution_count": 71,
      "metadata": {
        "colab": {
          "base_uri": "https://localhost:8080/",
          "height": 1000
        },
        "colab_type": "code",
        "id": "IAQVxgYvN4hQ",
        "outputId": "5edd35d9-572e-4db7-a74f-b9e65db6e387"
      },
      "outputs": [
        {
          "name": "stdout",
          "output_type": "stream",
          "text": [
            "Epoch: 1\n",
            "Loss: 0.6940691471099854, Precision: 0.2045619636774063\n",
            "Loss for Validation: 0.6939466595649719, Precision for Validation: 0.2326052337884903\n",
            "\n",
            "Epoch: 2\n",
            "Loss: 0.6937928199768066, Precision: 0.26251375675201416\n",
            "Loss for Validation: 0.6937128305435181, Precision for Validation: 0.2952740490436554\n",
            "\n",
            "Epoch: 3\n",
            "Loss: 0.6936036944389343, Precision: 0.32830747961997986\n",
            "Loss for Validation: 0.6935453414916992, Precision for Validation: 0.3673376142978668\n",
            "\n",
            "Epoch: 4\n",
            "Loss: 0.6934540867805481, Precision: 0.4023238718509674\n",
            "Loss for Validation: 0.693423330783844, Precision for Validation: 0.4454553723335266\n",
            "\n",
            "Epoch: 5\n",
            "Loss: 0.6933616399765015, Precision: 0.47953230142593384\n",
            "Loss for Validation: 0.6933349370956421, Precision for Validation: 0.5270807147026062\n",
            "\n",
            "Epoch: 6\n",
            "Loss: 0.693284809589386, Precision: 0.5590334534645081\n",
            "Loss for Validation: 0.6932709813117981, Precision for Validation: 0.6067166924476624\n",
            "\n",
            "Epoch: 7\n",
            "Loss: 0.6932219862937927, Precision: 0.6335116028785706\n",
            "Loss for Validation: 0.6932238340377808, Precision for Validation: 0.6833369731903076\n",
            "\n",
            "Epoch: 8\n",
            "Loss: 0.693178653717041, Precision: 0.7028321623802185\n",
            "Loss for Validation: 0.6931890845298767, Precision for Validation: 0.7508167624473572\n",
            "\n",
            "Epoch: 9\n",
            "Loss: 0.6931499242782593, Precision: 0.76213139295578\n",
            "Loss for Validation: 0.693164050579071, Precision for Validation: 0.8102980256080627\n",
            "\n",
            "Epoch: 10\n",
            "Loss: 0.6931301951408386, Precision: 0.8107888102531433\n",
            "Loss for Validation: 0.6931450366973877, Precision for Validation: 0.8595328330993652\n",
            "\n",
            "Epoch: 11\n",
            "Loss: 0.6931174397468567, Precision: 0.8519947528839111\n",
            "Loss for Validation: 0.693130612373352, Precision for Validation: 0.9002386927604675\n",
            "\n",
            "Epoch: 12\n",
            "Loss: 0.6931079626083374, Precision: 0.8851804733276367\n",
            "Loss for Validation: 0.6931196451187134, Precision for Validation: 0.9321519136428833\n",
            "\n",
            "Epoch: 13\n",
            "Loss: 0.6930995583534241, Precision: 0.9100808501243591\n",
            "Loss for Validation: 0.6931109428405762, Precision for Validation: 0.9583608508110046\n",
            "\n",
            "Epoch: 14\n",
            "Loss: 0.6930946707725525, Precision: 0.9293783903121948\n",
            "Loss for Validation: 0.6931050419807434, Precision for Validation: 0.9775861501693726\n",
            "\n",
            "Epoch: 15\n",
            "Loss: 0.6930878162384033, Precision: 0.9437556862831116\n",
            "Loss for Validation: 0.6930993795394897, Precision for Validation: 0.995339035987854\n",
            "\n",
            "Epoch: 16\n",
            "Loss: 0.6930842995643616, Precision: 0.9555679559707642\n",
            "Loss for Validation: 0.6930950284004211, Precision for Validation: 1.0079004764556885\n",
            "\n",
            "Epoch: 17\n",
            "Loss: 0.6930791139602661, Precision: 0.9648451209068298\n",
            "Loss for Validation: 0.6930912137031555, Precision for Validation: 1.016227126121521\n",
            "\n",
            "Epoch: 18\n",
            "Loss: 0.6930775046348572, Precision: 0.9706368446350098\n",
            "Loss for Validation: 0.6930885314941406, Precision for Validation: 1.0242955684661865\n",
            "\n",
            "Epoch: 19\n",
            "Loss: 0.6930732727050781, Precision: 0.975050687789917\n",
            "Loss for Validation: 0.6930866241455078, Precision for Validation: 1.0287328958511353\n",
            "\n",
            "Epoch: 20\n",
            "Loss: 0.6930705904960632, Precision: 0.978272557258606\n",
            "Loss for Validation: 0.6930838823318481, Precision for Validation: 1.0325556993484497\n",
            "\n",
            "Epoch: 21\n",
            "Loss: 0.6930675506591797, Precision: 0.9805961847305298\n",
            "Loss for Validation: 0.6930829882621765, Precision for Validation: 1.0363004207611084\n",
            "\n",
            "Epoch: 22\n",
            "Loss: 0.6930655837059021, Precision: 0.9807734489440918\n",
            "Loss for Validation: 0.6930802464485168, Precision for Validation: 1.0386003255844116\n",
            "\n",
            "Epoch: 23\n",
            "Loss: 0.6930631399154663, Precision: 0.9821483492851257\n",
            "Loss for Validation: 0.6930789351463318, Precision for Validation: 1.0408024787902832\n",
            "\n",
            "Epoch: 24\n",
            "Loss: 0.6930614113807678, Precision: 0.9819400310516357\n",
            "Loss for Validation: 0.6930781006813049, Precision for Validation: 1.042475938796997\n",
            "\n",
            "Epoch: 25\n",
            "Loss: 0.6930602192878723, Precision: 0.9829566478729248\n",
            "Loss for Validation: 0.6930775046348572, Precision for Validation: 1.0404980182647705\n",
            "\n",
            "Epoch: 26\n",
            "Loss: 0.6930590867996216, Precision: 0.980641782283783\n",
            "Loss for Validation: 0.6930766105651855, Precision for Validation: 1.0412853956222534\n",
            "\n",
            "Epoch: 27\n",
            "Loss: 0.6930567622184753, Precision: 0.9797459840774536\n",
            "Loss for Validation: 0.6930758953094482, Precision for Validation: 1.0410405397415161\n",
            "\n",
            "Epoch: 28\n",
            "Loss: 0.6930559277534485, Precision: 0.9783678650856018\n",
            "Loss for Validation: 0.6930745244026184, Precision for Validation: 1.0418757200241089\n",
            "\n",
            "Epoch: 29\n",
            "Loss: 0.6930546760559082, Precision: 0.9783377051353455\n",
            "Loss for Validation: 0.6930743455886841, Precision for Validation: 1.0399186611175537\n",
            "\n",
            "Epoch: 30\n",
            "Loss: 0.6930531859397888, Precision: 0.9760823249816895\n",
            "Loss for Validation: 0.6930733919143677, Precision for Validation: 1.0391267538070679\n",
            "\n",
            "Epoch: 31\n",
            "Loss: 0.6930509805679321, Precision: 0.9740018844604492\n",
            "Loss for Validation: 0.6930734515190125, Precision for Validation: 1.0392345190048218\n",
            "\n",
            "Epoch: 32\n",
            "Loss: 0.6930508017539978, Precision: 0.9740362763404846\n",
            "Loss for Validation: 0.6930727958679199, Precision for Validation: 1.0371999740600586\n",
            "\n",
            "Epoch: 33\n",
            "Loss: 0.6930508017539978, Precision: 0.9703965187072754\n",
            "Loss for Validation: 0.6930722594261169, Precision for Validation: 1.037876009941101\n",
            "\n",
            "Epoch: 34\n",
            "Loss: 0.6930494904518127, Precision: 0.9690351486206055\n",
            "Loss for Validation: 0.693072497844696, Precision for Validation: 1.037630558013916\n",
            "\n",
            "Epoch: 35\n",
            "Loss: 0.6930487155914307, Precision: 0.9677234888076782\n",
            "Loss for Validation: 0.6930709481239319, Precision for Validation: 1.0357636213302612\n",
            "\n",
            "Epoch: 36\n",
            "Loss: 0.6930471658706665, Precision: 0.9656265377998352\n",
            "Loss for Validation: 0.6930720806121826, Precision for Validation: 1.0344239473342896\n",
            "\n",
            "Epoch: 37\n",
            "Loss: 0.693045973777771, Precision: 0.964645504951477\n",
            "Loss for Validation: 0.6930709481239319, Precision for Validation: 1.0335859060287476\n",
            "\n",
            "Epoch: 38\n",
            "Loss: 0.6930447816848755, Precision: 0.9626938700675964\n",
            "Loss for Validation: 0.6930714249610901, Precision for Validation: 1.0319766998291016\n",
            "\n",
            "Epoch: 39\n",
            "Loss: 0.6930450797080994, Precision: 0.9604371190071106\n",
            "Loss for Validation: 0.6930710077285767, Precision for Validation: 1.0313782691955566\n",
            "\n",
            "Epoch: 40\n",
            "Loss: 0.6930442452430725, Precision: 0.9582192301750183\n",
            "Loss for Validation: 0.6930704116821289, Precision for Validation: 1.0303138494491577\n",
            "\n",
            "Epoch: 41\n",
            "Loss: 0.6930440068244934, Precision: 0.9563620090484619\n",
            "Loss for Validation: 0.6930707097053528, Precision for Validation: 1.0292154550552368\n",
            "\n",
            "Epoch: 42\n",
            "Loss: 0.6930441856384277, Precision: 0.9550397396087646\n",
            "Loss for Validation: 0.6930701732635498, Precision for Validation: 1.0272367000579834\n",
            "\n",
            "Epoch: 43\n",
            "Loss: 0.6930416226387024, Precision: 0.9525985717773438\n",
            "Loss for Validation: 0.6930704712867737, Precision for Validation: 1.0259817838668823\n",
            "\n",
            "Epoch: 44\n",
            "Loss: 0.6930424571037292, Precision: 0.9507250189781189\n",
            "Loss for Validation: 0.6930705308914185, Precision for Validation: 1.025551438331604\n",
            "\n",
            "Epoch: 45\n",
            "Loss: 0.6930400729179382, Precision: 0.9497522711753845\n",
            "Loss for Validation: 0.6930698156356812, Precision for Validation: 1.0238850116729736\n",
            "\n",
            "Epoch: 46\n",
            "Loss: 0.6930413246154785, Precision: 0.9469809532165527\n",
            "Loss for Validation: 0.6930696964263916, Precision for Validation: 1.0236029624938965\n",
            "\n",
            "Epoch: 47\n",
            "Loss: 0.6930397748947144, Precision: 0.9457839131355286\n",
            "Loss for Validation: 0.6930700540542603, Precision for Validation: 1.0212477445602417\n",
            "\n",
            "Epoch: 48\n",
            "Loss: 0.6930387020111084, Precision: 0.9444636702537537\n",
            "Loss for Validation: 0.6930699348449707, Precision for Validation: 1.0188064575195312\n",
            "\n",
            "Epoch: 49\n",
            "Loss: 0.6930387616157532, Precision: 0.9423319101333618\n",
            "Loss for Validation: 0.6930698752403259, Precision for Validation: 1.018471598625183\n",
            "\n",
            "Epoch: 50\n",
            "Loss: 0.6930390000343323, Precision: 0.9402326345443726\n",
            "Loss for Validation: 0.693069577217102, Precision for Validation: 1.016488790512085\n",
            "\n",
            "Epoch: 51\n",
            "Loss: 0.6930392980575562, Precision: 0.9383885860443115\n",
            "Loss for Validation: 0.69306880235672, Precision for Validation: 1.014807939529419\n",
            "\n",
            "Epoch: 52\n",
            "Loss: 0.693037748336792, Precision: 0.9362338781356812\n",
            "Loss for Validation: 0.6930700540542603, Precision for Validation: 1.0135347843170166\n",
            "\n",
            "Epoch: 53\n",
            "Loss: 0.6930361986160278, Precision: 0.9346482157707214\n",
            "Loss for Validation: 0.6930691003799438, Precision for Validation: 1.0131994485855103\n",
            "\n",
            "Epoch: 54\n",
            "Loss: 0.6930364966392517, Precision: 0.9334499835968018\n",
            "Loss for Validation: 0.6930695176124573, Precision for Validation: 1.0107380151748657\n",
            "\n",
            "Epoch: 55\n",
            "Loss: 0.6930375695228577, Precision: 0.9310994148254395\n",
            "Loss for Validation: 0.6930692791938782, Precision for Validation: 1.0096153020858765\n",
            "\n",
            "Epoch: 56\n",
            "Loss: 0.6930365562438965, Precision: 0.9298761487007141\n",
            "Loss for Validation: 0.6930693984031677, Precision for Validation: 1.0080214738845825\n",
            "\n",
            "Epoch: 57\n",
            "Loss: 0.6930360198020935, Precision: 0.9290140271186829\n",
            "Loss for Validation: 0.6930692791938782, Precision for Validation: 1.0052158832550049\n",
            "\n",
            "Epoch: 58\n",
            "Loss: 0.6930352449417114, Precision: 0.9266166687011719\n",
            "Loss for Validation: 0.6930694580078125, Precision for Validation: 1.0048335790634155\n",
            "\n",
            "Epoch: 59\n",
            "Loss: 0.6930342316627502, Precision: 0.9254336357116699\n",
            "Loss for Validation: 0.6930689811706543, Precision for Validation: 1.003552794456482\n",
            "\n",
            "Epoch: 60\n",
            "Loss: 0.6930342316627502, Precision: 0.9235090017318726\n",
            "Loss for Validation: 0.6930693984031677, Precision for Validation: 1.0018528699874878\n",
            "\n",
            "Epoch: 61\n",
            "Loss: 0.6930330991744995, Precision: 0.9216830730438232\n",
            "Loss for Validation: 0.693069577217102, Precision for Validation: 1.0017597675323486\n",
            "\n",
            "Epoch: 62\n",
            "Loss: 0.6930329203605652, Precision: 0.9213422536849976\n",
            "Loss for Validation: 0.6930693984031677, Precision for Validation: 0.998753547668457\n",
            "\n",
            "Epoch: 63\n",
            "Loss: 0.69303297996521, Precision: 0.919938862323761\n",
            "Loss for Validation: 0.6930690407752991, Precision for Validation: 0.997941255569458\n",
            "\n",
            "Epoch: 64\n",
            "Loss: 0.6930326819419861, Precision: 0.917885959148407\n",
            "Loss for Validation: 0.69306880235672, Precision for Validation: 0.9969953894615173\n",
            "\n",
            "Epoch: 65\n",
            "Loss: 0.6930333971977234, Precision: 0.9172809720039368\n",
            "Loss for Validation: 0.6930686831474304, Precision for Validation: 0.9954653978347778\n",
            "\n",
            "Epoch: 66\n",
            "Loss: 0.6930335164070129, Precision: 0.9150436520576477\n",
            "Loss for Validation: 0.6930686831474304, Precision for Validation: 0.9950976967811584\n",
            "\n",
            "Epoch: 67\n",
            "Loss: 0.6930323839187622, Precision: 0.9144800305366516\n",
            "Loss for Validation: 0.6930691003799438, Precision for Validation: 0.9934394359588623\n",
            "\n",
            "Epoch: 68\n",
            "Loss: 0.6930319666862488, Precision: 0.9127742648124695\n",
            "Loss for Validation: 0.6930687427520752, Precision for Validation: 0.9921756982803345\n",
            "\n",
            "Epoch: 69\n",
            "Loss: 0.6930323243141174, Precision: 0.9123318791389465\n",
            "Loss for Validation: 0.6930687427520752, Precision for Validation: 0.9910678863525391\n",
            "\n",
            "Epoch: 70\n",
            "Loss: 0.693031370639801, Precision: 0.9108522534370422\n",
            "Loss for Validation: 0.6930693984031677, Precision for Validation: 0.9904264211654663\n",
            "\n"
          ]
        }
      ],
      "source": [
        "\n",
        "#TODO: choose the learning rate and number of epochs to be trained\n",
        "################################ TODO ##################################\n",
        "lr = 1e-4\n",
        "epochs = 70\n",
        "################################ TODO ##################################\n",
        "optimizer = optim.Adam(model.parameters(), lr = lr)\n",
        "loss = nn.BCEWithLogitsLoss()\n",
        "loss = loss.to(device)\n",
        "train(model, dataloader_train, optimizer, loss, device=device, epochs=epochs)"
      ]
    },
    {
      "cell_type": "markdown",
      "metadata": {
        "colab_type": "text",
        "id": "Ph2WG8jNN4hZ"
      },
      "source": [
        "## Plotting the training and validation losses"
      ]
    },
    {
      "cell_type": "code",
      "execution_count": 72,
      "metadata": {
        "colab": {
          "base_uri": "https://localhost:8080/",
          "height": 298
        },
        "colab_type": "code",
        "id": "HsuXjl6wN4ha",
        "outputId": "b782b3ef-0802-4fa9-b47c-9b1d10c3a1bd"
      },
      "outputs": [
        {
          "data": {
            "text/plain": [
              "<matplotlib.legend.Legend at 0x7fa98fc86908>"
            ]
          },
          "execution_count": 72,
          "metadata": {
            "tags": []
          },
          "output_type": "execute_result"
        },
        {
          "data": {
            "image/png": "[encoded data removed]",
            "text/plain": [
              "<Figure size 432x288 with 1 Axes>"
            ]
          },
          "metadata": {
            "needs_background": "light",
            "tags": []
          },
          "output_type": "display_data"
        }
      ],
      "source": [
        "plt.plot(loss_train_arr, label = 'training loss')\n",
        "plt.plot(loss_val_arr, label = 'validation loss')\n",
        "plt.xlabel('epoch')\n",
        "plt.ylabel('loss')\n",
        "plt.legend()"
      ]
    },
    {
      "cell_type": "markdown",
      "metadata": {
        "colab_type": "text",
        "id": "Wb8J7gaAN4hg"
      },
      "source": [
        "## Task 4: Testing the model performance (15 points)\n",
        "By choosing the apporpriate number of epochs and learning rate (Hyperparameters), train your model to get at least **70%** accuracy on the test set/\n"
      ]
    },
    {
      "cell_type": "code",
      "execution_count": 73,
      "metadata": {
        "colab": {
          "base_uri": "https://localhost:8080/",
          "height": 34
        },
        "colab_type": "code",
        "id": "sfFmzTXjN4hh",
        "outputId": "da839463-4869-4fd4-fad5-ad77d23bdf76"
      },
      "outputs": [
        {
          "name": "stdout",
          "output_type": "stream",
          "text": [
            "Loss for Validation: 0.6930686235427856, Precision for Validation: 1.0107762813568115\n"
          ]
        }
      ],
      "source": [
        "#TODO: reach the requred accuracy on the test set\n",
        "        ################################ TODO ##################################\n",
        "loss_test = validate(model, dataloader_test, loss)"
      ]
    },
    {
      "cell_type": "code",
      "execution_count": 61,
      "metadata": {
        "colab": {
          "base_uri": "https://localhost:8080/",
          "height": 68
        },
        "colab_type": "code",
        "id": "p0VI6yoKN4ho",
        "outputId": "04ecc064-8c3c-4763-f965-f2260576f7b9"
      },
      "outputs": [
        {
          "name": "stdout",
          "output_type": "stream",
          "text": [
            "{'video': tensor([ 0.5172, -0.0255,  1.7697,  ..., -0.2402, -0.0147, -0.5956],\n",
            "       dtype=torch.float64), 'label': tensor([0., 0., 0.,  ..., 0., 0., 0.]), 'id': '0Adv'}\n",
            "tensor([3, 4, 6])\n"
          ]
        }
      ],
      "source": [
        "sample = dataset_test[40]\n",
        "print(sample)\n",
        "labels = np.nonzero(sample['label'])\n",
        "id = sample['id']\n",
        "print(labels.squeeze())"
      ]
    },
    {
      "cell_type": "code",
      "execution_count": 62,
      "metadata": {
        "colab": {
          "base_uri": "https://localhost:8080/",
          "height": 355
        },
        "colab_type": "code",
        "id": "0fgw_shfN4ht",
        "outputId": "91eb8977-4610-436f-c647-f85943d76608"
      },
      "outputs": [
        {
          "name": "stdout",
          "output_type": "stream",
          "text": [
            "label names of this video: ['Concert', 'Car', 'Animation']\n",
            "BR_bCb_F37o\n"
          ]
        },
        {
          "data": {
            "image/jpeg": "[encoded data removed]",
            "text/html": [
              "\n",
              "        <iframe\n",
              "            width=\"400\"\n",
              "            height=\"300\"\n",
              "            src=\"https://www.youtube.com/embed/BR_bCb_F37o\"\n",
              "            frameborder=\"0\"\n",
              "            allowfullscreen\n",
              "        ></iframe>\n",
              "        "
            ],
            "text/plain": [
              "<IPython.lib.display.YouTubeVideo at 0x7fa98fd3e518>"
            ]
          },
          "execution_count": 62,
          "metadata": {
            "tags": []
          },
          "output_type": "execute_result"
        }
      ],
      "source": [
        "show_yt8m(short_id=id,labels=labels.squeeze().numpy())"
      ]
    },
    {
      "cell_type": "code",
      "execution_count": 63,
      "metadata": {
        "colab": {
          "base_uri": "https://localhost:8080/",
          "height": 136
        },
        "colab_type": "code",
        "id": "ZB3Ch-VtN4hz",
        "outputId": "a4b3b532-42ba-40e4-ebb1-1201ab59e44c"
      },
      "outputs": [
        {
          "name": "stdout",
          "output_type": "stream",
          "text": [
            "tensor([[   2],\n",
            "        [   7],\n",
            "        [   8],\n",
            "        ...,\n",
            "        [3854],\n",
            "        [3856],\n",
            "        [3859]], device='cuda:0')\n"
          ]
        }
      ],
      "source": [
        "preds = model(dataset_test[40]['video'].float().to(device))\n",
        "print(np.nonzero(preds > 0.5))"
      ]
    },
    {
      "cell_type": "code",
      "execution_count": null,
      "metadata": {
        "colab": {},
        "colab_type": "code",
        "id": "NFqYknnlgJje"
      },
      "outputs": [],
      "source": []
    }
  ],
  "metadata": {
    "accelerator": "GPU",
    "colab": {
      "collapsed_sections": [],
      "name": "Project1Part1.ipynb",
      "provenance": [],
      "toc_visible": true
    },
    "kernelspec": {
      "display_name": "Python 3.9.12 ('base')",
      "language": "python",
      "name": "python3"
    },
    "language_info": {
      "codemirror_mode": {
        "name": "ipython",
        "version": 3
      },
      "file_extension": ".py",
      "mimetype": "text/x-python",
      "name": "python",
      "nbconvert_exporter": "python",
      "pygments_lexer": "ipython3",
      "version": "3.9.12"
    },
    "vscode": {
      "interpreter": {
        "hash": "ad2bdc8ecc057115af97d19610ffacc2b4e99fae6737bb82f5d7fb13d2f2c186"
      }
    }
  },
  "nbformat": 4,
  "nbformat_minor": 0
}
